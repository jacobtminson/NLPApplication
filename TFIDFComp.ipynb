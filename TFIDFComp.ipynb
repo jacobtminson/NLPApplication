{
 "cells": [
  {
   "cell_type": "code",
   "execution_count": 9,
   "id": "0f1b904c-a23a-41c2-9128-a1a8fc61aeba",
   "metadata": {},
   "outputs": [],
   "source": [
    "import pandas as pd\n",
    "\n",
    "from sklearn.feature_extraction.text import TfidfVectorizer\n",
    "\n",
    "from sklearn.metrics.pairwise import cosine_similarity\n",
    "from sklearn.metrics.pairwise import linear_kernel\n",
    "import ftfy\n",
    "\n",
    "pd.set_option('display.max_columns', None)\n",
    "pd.set_option('display.max_rows', None)\n",
    "pd.set_option('display.max_colwidth', None)\n",
    "pd.set_option('display.float_format', lambda x: f'{x:.3f}')\n",
    "\n",
    "import numpy as np\n",
    "from sklearn.metrics.pairwise import cosine_similarity\n",
    "from sklearn.feature_extraction.text import TfidfVectorizer\n",
    "import re"
   ]
  },
  {
   "cell_type": "code",
   "execution_count": 10,
   "id": "56075eb5-6eee-449e-8824-560ab63e27ce",
   "metadata": {},
   "outputs": [],
   "source": [
    "def ngrams(string, n=3):\n",
    "    \n",
    "    # string = re.sub(r'[,-./]|\\sBD',r'', string)\n",
    "    # ngrams = zip(*[string[i:] for i in range(n)])\n",
    "    # return [''.join(ngram) for ngram in ngrams]\n",
    "    \n",
    "    \n",
    "    string = ftfy.fix_text(string)\n",
    "    string = string.encode(\"ascii\", errors=\"ignore\").decode()\n",
    "    string = string.lower()\n",
    "    chars_to_remove = [\")\",\"(\",\">\",\"|\",\"{\",\"}\",\"{\",\"}\",\"'\"]\n",
    "    rx = '[' + re.escape(''.join(chars_to_remove)) + ']'\n",
    "    string = re.sub(rx, '', string)\n",
    "    string = string.replace('&', 'and')\n",
    "    string = string.replace(',',' ')\n",
    "    string = string.replace('-', ' ')\n",
    "    string = string.replace(\"isd\", \"intermediate school district\")\n",
    "    string = string.replace(\"usd\", \"unified school district\")\n",
    "    string = string.replace(\"sd\", \"school district\")\n",
    "    string = string.replace(\"schools\", \"\")\n",
    "    string = string.replace(\"school\", \"\")\n",
    "    string = string.replace(\"public\", \"\")    \n",
    "    string = string.replace(\"districts\", \"\")\n",
    "    string = string.replace(\"district\", \"\")\n",
    "    string = string.replace(\"independent\", \"\")\n",
    "    string = string.replace(\"unified\", \"\")\n",
    "    string = string.replace(\"metropolitan\", \"\")\n",
    "    string = string.replace(\"academy\", \"\")\n",
    "    string = string.replace(\"department\", \"\")\n",
    "    string = string.replace(\"board\", \"\")\n",
    "    string = string.replace(\"education\", \"\")\n",
    "    \n",
    "    \n",
    "\n",
    "    \n",
    "    string = string.title()\n",
    "    string = re.sub(' +',' ',string).strip()\n",
    "    string = ' '+ string + ' '\n",
    "    string = re.sub(r'[,-./]|\\sBD',r'', string)\n",
    "    ngrams = zip(*[string[i:] for i in range(n)])\n",
    "    return [''.join(ngram) for ngram in ngrams]"
   ]
  },
  {
   "cell_type": "code",
   "execution_count": 11,
   "id": "db4661d0-c599-4744-95bc-9e5a406e9e83",
   "metadata": {},
   "outputs": [
    {
     "name": "stdout",
     "output_type": "stream",
     "text": [
      "Vecorizing the data - this could take a few minutes for large datasets...\n",
      "Vecorizing completed...\n"
     ]
    }
   ],
   "source": [
    "# read in the dataset with goal data?? (training data)\n",
    "account_path = None #insert path to account file here\n",
    "clean_org_names = pd.read_csv(account_path)\n",
    "clean_org_names = clean_org_names.iloc[:, 0:4]\n",
    "# insert column name of column with training values\n",
    "org_name_clean = clean_org_names['Account Name']#.unique()\n",
    "\n",
    "\n",
    "print('Vecorizing the data - this could take a few minutes for large datasets...')\n",
    "vectorizer = TfidfVectorizer(min_df=1, lowercase=False, analyzer=ngrams)\n",
    "tfidf = vectorizer.fit_transform(org_name_clean)\n",
    "print('Vecorizing completed...')\n",
    "\n",
    "contact_path = None #insert path to contact file here\n",
    "# read in the data to be acted upon (forward pass)\n",
    "df_c = pd.read_excel(contact_path)\n",
    "# enter your column header for the subset\n",
    "df_c.dropna(subset='School District/Organization',inplace=True)"
   ]
  },
  {
   "cell_type": "code",
   "execution_count": 12,
   "id": "b388485b-d7ac-4507-aa37-2e60d1023cb4",
   "metadata": {},
   "outputs": [
    {
     "name": "stdout",
     "output_type": "stream",
     "text": [
      "getting nearest n...\n",
      "COMPLETED IN: 0.11484098434448242\n",
      "finding matches...\n",
      "Building data frame...\n",
      "Done\n"
     ]
    }
   ],
   "source": [
    "from sklearn.neighbors import NearestNeighbors\n",
    "nbrs = NearestNeighbors(n_neighbors=1, n_jobs=-1).fit(tfidf)\n",
    "org_column = 'School District/Organization' #column to match against in the messy data\n",
    "unique_org = df_c[org_column].values # set used for increased performance:\n",
    "\n",
    "### matching query\n",
    "def getNearestN(query):\n",
    "    queryTFIDF_ = vectorizer.transform(query)\n",
    "    distances, indices = nbrs.kneighbors(queryTFIDF_)\n",
    "    return distances, indices\n",
    "\n",
    "import time\n",
    "t1 = time.time()\n",
    "print('getting nearest n...')\n",
    "distances, indices = getNearestN(unique_org)\n",
    "t = time.time()-t1\n",
    "print(\"COMPLETED IN:\", t)\n",
    "unique_org = list(unique_org) #need to convert back to a list\n",
    "\n",
    "print('finding matches...')\n",
    "matches = []\n",
    "for i,j in enumerate(indices):\n",
    "    temp = [df_c['Contact ID'].values[i],round(1-distances[i][0],3), clean_org_names.values[j][0][0], clean_org_names.values[j][0][3],unique_org[i]]\n",
    "    matches.append(temp)\n",
    "print('Building data frame...')  \n",
    "matches = pd.DataFrame(matches, columns=['Contact ID','accuracy','Record Id','Account Match','Contacts'])\n",
    "print('Done')"
   ]
  },
  {
   "cell_type": "code",
   "execution_count": 13,
   "id": "648e1fa1-eaec-4d30-8222-6095741cb7de",
   "metadata": {},
   "outputs": [
    {
     "name": "stdout",
     "output_type": "stream",
     "text": [
      "'wrong' count: 301\n",
      "accuracy: 59.49%\n"
     ]
    }
   ],
   "source": [
    "print(\"\\'wrong\\' count: \" + str(len(matches.query('accuracy < .3').sort_values(\"accuracy\", ascending=False))))\n",
    "\n",
    "print(\"accuracy: \"+ str(round((1-len(matches.query('accuracy < .3').sort_values(\"accuracy\", ascending=False))/len(matches))*100, 2))+\"%\")"
   ]
  },
  {
   "cell_type": "code",
   "execution_count": 14,
   "id": "8f3a9d6d-fb84-49f9-b0ce-da30566cb77b",
   "metadata": {},
   "outputs": [],
   "source": [
    "a = np.array(matches['Record Id'].values.tolist())\n",
    "matches['Record Id'] = np.where(matches.accuracy < .3, np.nan, a)\n",
    "matches['Record Id'] = matches['Record Id'].replace(\"nan\", np.nan)\n",
    "\n",
    "b = np.array(matches['Account Match'].values.tolist())\n",
    "matches['Account Match'] = np.where(matches.accuracy < .3, np.nan, b)\n",
    "matches['Account Match'] = matches['Account Match'].replace(\"nan\", np.nan)"
   ]
  },
  {
   "cell_type": "code",
   "execution_count": 15,
   "id": "2633f77e-011d-42c7-acd0-c7cf3056a19b",
   "metadata": {},
   "outputs": [
    {
     "data": {
      "text/html": [
       "<div>\n",
       "<style scoped>\n",
       "    .dataframe tbody tr th:only-of-type {\n",
       "        vertical-align: middle;\n",
       "    }\n",
       "\n",
       "    .dataframe tbody tr th {\n",
       "        vertical-align: top;\n",
       "    }\n",
       "\n",
       "    .dataframe thead th {\n",
       "        text-align: right;\n",
       "    }\n",
       "</style>\n",
       "<table border=\"1\" class=\"dataframe\">\n",
       "  <thead>\n",
       "    <tr style=\"text-align: right;\">\n",
       "      <th></th>\n",
       "      <th>Contact ID</th>\n",
       "      <th>accuracy</th>\n",
       "      <th>Record Id</th>\n",
       "      <th>Account Match</th>\n",
       "      <th>Contacts</th>\n",
       "    </tr>\n",
       "  </thead>\n",
       "  <tbody>\n",
       "    <tr>\n",
       "      <th>0</th>\n",
       "      <td>zcrm_5090086000000528052</td>\n",
       "      <td>1.000</td>\n",
       "      <td>zcrm_5090086000002814211</td>\n",
       "      <td>Jefferson County</td>\n",
       "      <td>Jefferson County Public Schools</td>\n",
       "    </tr>\n",
       "    <tr>\n",
       "      <th>358</th>\n",
       "      <td>zcrm_5090086000001583599</td>\n",
       "      <td>1.000</td>\n",
       "      <td>zcrm_5090086000002817053</td>\n",
       "      <td>Pitt County Schools</td>\n",
       "      <td>PITT COUNTY SCHOOLS</td>\n",
       "    </tr>\n",
       "    <tr>\n",
       "      <th>408</th>\n",
       "      <td>zcrm_5090086000001675081</td>\n",
       "      <td>1.000</td>\n",
       "      <td>zcrm_5090086000002764616</td>\n",
       "      <td>Bethel School District</td>\n",
       "      <td>Bethel School District</td>\n",
       "    </tr>\n",
       "    <tr>\n",
       "      <th>407</th>\n",
       "      <td>zcrm_5090086000001675080</td>\n",
       "      <td>1.000</td>\n",
       "      <td>zcrm_5090086000002764566</td>\n",
       "      <td>Bellingham</td>\n",
       "      <td>Bellingham School District</td>\n",
       "    </tr>\n",
       "    <tr>\n",
       "      <th>406</th>\n",
       "      <td>zcrm_5090086000001675079</td>\n",
       "      <td>1.000</td>\n",
       "      <td>zcrm_5090086000002764563</td>\n",
       "      <td>BELLEVUE PUBLIC SCHOOLS</td>\n",
       "      <td>Bellevue School District</td>\n",
       "    </tr>\n",
       "    <tr>\n",
       "      <th>405</th>\n",
       "      <td>zcrm_5090086000001675078</td>\n",
       "      <td>1.000</td>\n",
       "      <td>zcrm_5090086000002764563</td>\n",
       "      <td>BELLEVUE PUBLIC SCHOOLS</td>\n",
       "      <td>Bellevue School District</td>\n",
       "    </tr>\n",
       "    <tr>\n",
       "      <th>404</th>\n",
       "      <td>zcrm_5090086000001675077</td>\n",
       "      <td>1.000</td>\n",
       "      <td>zcrm_5090086000002764520</td>\n",
       "      <td>Battle Ground School District</td>\n",
       "      <td>Battle Ground School District</td>\n",
       "    </tr>\n",
       "    <tr>\n",
       "      <th>403</th>\n",
       "      <td>zcrm_5090086000001675076</td>\n",
       "      <td>1.000</td>\n",
       "      <td>zcrm_5090086000002764474</td>\n",
       "      <td>Bainbridge Island School District</td>\n",
       "      <td>Bainbridge Island School District</td>\n",
       "    </tr>\n",
       "    <tr>\n",
       "      <th>402</th>\n",
       "      <td>zcrm_5090086000001675075</td>\n",
       "      <td>1.000</td>\n",
       "      <td>zcrm_5090086000002764238</td>\n",
       "      <td>Auburn</td>\n",
       "      <td>Auburn School District</td>\n",
       "    </tr>\n",
       "    <tr>\n",
       "      <th>400</th>\n",
       "      <td>zcrm_5090086000001675073</td>\n",
       "      <td>1.000</td>\n",
       "      <td>zcrm_5090086000002764157</td>\n",
       "      <td>Anacortes School District</td>\n",
       "      <td>Anacortes School District</td>\n",
       "    </tr>\n",
       "  </tbody>\n",
       "</table>\n",
       "</div>"
      ],
      "text/plain": [
       "                   Contact ID  accuracy                 Record Id  \\\n",
       "0    zcrm_5090086000000528052     1.000  zcrm_5090086000002814211   \n",
       "358  zcrm_5090086000001583599     1.000  zcrm_5090086000002817053   \n",
       "408  zcrm_5090086000001675081     1.000  zcrm_5090086000002764616   \n",
       "407  zcrm_5090086000001675080     1.000  zcrm_5090086000002764566   \n",
       "406  zcrm_5090086000001675079     1.000  zcrm_5090086000002764563   \n",
       "405  zcrm_5090086000001675078     1.000  zcrm_5090086000002764563   \n",
       "404  zcrm_5090086000001675077     1.000  zcrm_5090086000002764520   \n",
       "403  zcrm_5090086000001675076     1.000  zcrm_5090086000002764474   \n",
       "402  zcrm_5090086000001675075     1.000  zcrm_5090086000002764238   \n",
       "400  zcrm_5090086000001675073     1.000  zcrm_5090086000002764157   \n",
       "\n",
       "                         Account Match                           Contacts  \n",
       "0                     Jefferson County    Jefferson County Public Schools  \n",
       "358                Pitt County Schools                PITT COUNTY SCHOOLS  \n",
       "408             Bethel School District             Bethel School District  \n",
       "407                         Bellingham         Bellingham School District  \n",
       "406            BELLEVUE PUBLIC SCHOOLS           Bellevue School District  \n",
       "405            BELLEVUE PUBLIC SCHOOLS           Bellevue School District  \n",
       "404      Battle Ground School District      Battle Ground School District  \n",
       "403  Bainbridge Island School District  Bainbridge Island School District  \n",
       "402                             Auburn             Auburn School District  \n",
       "400          Anacortes School District          Anacortes School District  "
      ]
     },
     "execution_count": 15,
     "metadata": {},
     "output_type": "execute_result"
    }
   ],
   "source": [
    "matches.sort_values('accuracy', ascending = False).head(10)"
   ]
  },
  {
   "cell_type": "markdown",
   "id": "96d97f7d-a059-452f-abf7-2541c998e795",
   "metadata": {
    "tags": []
   },
   "source": [
    "### re-merging"
   ]
  },
  {
   "cell_type": "code",
   "execution_count": null,
   "id": "ec876bc0-e453-4735-8509-bfb581fcf331",
   "metadata": {},
   "outputs": [],
   "source": [
    "outMatch = matches.drop(['Contacts'], axis = 1)"
   ]
  },
  {
   "cell_type": "code",
   "execution_count": null,
   "id": "e6cc19e2-5419-4ddd-bc6a-295ad982b729",
   "metadata": {},
   "outputs": [],
   "source": [
    "cols = outMatch.columns.tolist()"
   ]
  },
  {
   "cell_type": "code",
   "execution_count": null,
   "id": "0b85eb38-e325-4aaf-8efa-c9536450694b",
   "metadata": {},
   "outputs": [],
   "source": [
    "cols = ['Contact ID', 'Record Id', 'accuracy', 'Account Match']"
   ]
  },
  {
   "cell_type": "code",
   "execution_count": null,
   "id": "58133a05-46ac-46ba-b1d2-bd341c8db3c3",
   "metadata": {},
   "outputs": [],
   "source": [
    "outMatch = outMatch[cols]"
   ]
  },
  {
   "cell_type": "code",
   "execution_count": null,
   "id": "13b23a76-f7e5-49c0-b301-574f2044c0f7",
   "metadata": {},
   "outputs": [],
   "source": [
    "df_c = pd.read_excel(contact_path)"
   ]
  },
  {
   "cell_type": "code",
   "execution_count": null,
   "id": "953ed798-51cc-415d-b8ed-37275cf3688e",
   "metadata": {},
   "outputs": [],
   "source": [
    "df = pd.merge(left=df_c, right=outMatch, on='Contact ID', how='outer',suffixes=[\"\", \"_Accounts\"])"
   ]
  },
  {
   "cell_type": "code",
   "execution_count": null,
   "id": "c5c27a51-9309-40eb-9c5b-491289b0d80e",
   "metadata": {},
   "outputs": [],
   "source": [
    "df.to_csv(\"Final Contact - Account Integration.csv\")"
   ]
  }
 ],
 "metadata": {
  "kernelspec": {
   "display_name": "Python 3 (ipykernel)",
   "language": "python",
   "name": "python3"
  },
  "language_info": {
   "codemirror_mode": {
    "name": "ipython",
    "version": 3
   },
   "file_extension": ".py",
   "mimetype": "text/x-python",
   "name": "python",
   "nbconvert_exporter": "python",
   "pygments_lexer": "ipython3",
   "version": "3.10.2"
  }
 },
 "nbformat": 4,
 "nbformat_minor": 5
}
