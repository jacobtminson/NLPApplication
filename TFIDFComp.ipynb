{
 "cells": [
  {
   "cell_type": "code",
   "execution_count": 1,
   "id": "0f1b904c-a23a-41c2-9128-a1a8fc61aeba",
   "metadata": {},
   "outputs": [],
   "source": [
    "import pandas as pd\n",
    "\n",
    "from sklearn.feature_extraction.text import TfidfVectorizer\n",
    "\n",
    "from sklearn.metrics.pairwise import cosine_similarity\n",
    "from sklearn.metrics.pairwise import linear_kernel\n",
    "import ftfy\n",
    "\n",
    "pd.set_option('display.max_columns', None)\n",
    "pd.set_option('display.max_rows', None)\n",
    "pd.set_option('display.max_colwidth', None)\n",
    "pd.set_option('display.float_format', lambda x: f'{x:.3f}')\n",
    "\n",
    "import numpy as np\n",
    "from sklearn.metrics.pairwise import cosine_similarity\n",
    "from sklearn.feature_extraction.text import TfidfVectorizer\n",
    "import re"
   ]
  },
  {
   "cell_type": "code",
   "execution_count": 2,
   "id": "56075eb5-6eee-449e-8824-560ab63e27ce",
   "metadata": {},
   "outputs": [],
   "source": [
    "def ngrams(string, n=3):\n",
    "    \n",
    "    # string = re.sub(r'[,-./]|\\sBD',r'', string)\n",
    "    # ngrams = zip(*[string[i:] for i in range(n)])\n",
    "    # return [''.join(ngram) for ngram in ngrams]\n",
    "    \n",
    "    \n",
    "    string = ftfy.fix_text(string)\n",
    "    string = string.encode(\"ascii\", errors=\"ignore\").decode()\n",
    "    string = string.lower()\n",
    "    chars_to_remove = [\")\",\"(\",\">\",\"|\",\"{\",\"}\",\"{\",\"}\",\"'\"]\n",
    "    rx = '[' + re.escape(''.join(chars_to_remove)) + ']'\n",
    "    string = re.sub(rx, '', string)\n",
    "    string = string.replace('&', 'and')\n",
    "    string = string.replace(',',' ')\n",
    "    string = string.replace('-', ' ')\n",
    "    string = string.replace(\"isd\", \"intermediate school district\")\n",
    "    string = string.replace(\"usd\", \"unified school district\")\n",
    "    string = string.replace(\"sd\", \"school district\")\n",
    "    string = string.replace(\"schools\", \"\")\n",
    "    string = string.replace(\"school\", \"\")\n",
    "    string = string.replace(\"public\", \"\")    \n",
    "    string = string.replace(\"districts\", \"\")\n",
    "    string = string.replace(\"district\", \"\")\n",
    "    string = string.replace(\"independent\", \"\")\n",
    "    string = string.replace(\"unified\", \"\")\n",
    "    string = string.replace(\"metropolitan\", \"\")\n",
    "    string = string.replace(\"academy\", \"\")\n",
    "    string = string.replace(\"department\", \"\")\n",
    "    string = string.replace(\"board\", \"\")\n",
    "    string = string.replace(\"education\", \"\")\n",
    "    \n",
    "    \n",
    "\n",
    "    \n",
    "    string = string.title()\n",
    "    string = re.sub(' +',' ',string).strip()\n",
    "    string = ' '+ string + ' '\n",
    "    string = re.sub(r'[,-./]|\\sBD',r'', string)\n",
    "    ngrams = zip(*[string[i:] for i in range(n)])\n",
    "    return [''.join(ngram) for ngram in ngrams]"
   ]
  },
  {
   "cell_type": "code",
   "execution_count": 91,
   "id": "db4661d0-c599-4744-95bc-9e5a406e9e83",
   "metadata": {},
   "outputs": [
    {
     "name": "stdout",
     "output_type": "stream",
     "text": [
      "Vecorizing the data - this could take a few minutes for large datasets...\n",
      "Vecorizing completed...\n"
     ]
    }
   ],
   "source": [
    "# read in the dataset with goal data?? (training data)\n",
    "clean_org_names = pd.read_csv(r\"C:\\Users\\jacob\\Documents\\SVS\\Contacts to Accounts\\Data\\Accounts 6.28.22.csv\")\n",
    "clean_org_names = clean_org_names.iloc[:, 0:4]\n",
    "# insert column name of column with training values\n",
    "org_name_clean = clean_org_names['Account Name']#.unique()\n",
    "\n",
    "\n",
    "print('Vecorizing the data - this could take a few minutes for large datasets...')\n",
    "vectorizer = TfidfVectorizer(min_df=1, lowercase=False, analyzer=ngrams)\n",
    "tfidf = vectorizer.fit_transform(org_name_clean)\n",
    "print('Vecorizing completed...')\n",
    "\n",
    "# read in the data to be acted upon (forward pass)\n",
    "df_c = pd.read_excel(r\"C:\\Users\\jacob\\Documents\\SVS\\Contacts to Accounts\\Data\\EduFresh contacts 6.28.22.xlsx\")\n",
    "# enter your column header for the subset\n",
    "df_c.dropna(subset='School District/Organization',inplace=True)"
   ]
  },
  {
   "cell_type": "code",
   "execution_count": 92,
   "id": "b388485b-d7ac-4507-aa37-2e60d1023cb4",
   "metadata": {},
   "outputs": [
    {
     "name": "stdout",
     "output_type": "stream",
     "text": [
      "getting nearest n...\n",
      "COMPLETED IN: 0.12380194664001465\n",
      "finding matches...\n",
      "Building data frame...\n",
      "Done\n"
     ]
    }
   ],
   "source": [
    "from sklearn.neighbors import NearestNeighbors\n",
    "nbrs = NearestNeighbors(n_neighbors=1, n_jobs=-1).fit(tfidf)\n",
    "org_column = 'School District/Organization' #column to match against in the messy data\n",
    "unique_org = df_c[org_column].values # set used for increased performance:\n",
    "\n",
    "### matching query\n",
    "def getNearestN(query):\n",
    "    queryTFIDF_ = vectorizer.transform(query)\n",
    "    distances, indices = nbrs.kneighbors(queryTFIDF_)\n",
    "    return distances, indices\n",
    "\n",
    "import time\n",
    "t1 = time.time()\n",
    "print('getting nearest n...')\n",
    "distances, indices = getNearestN(unique_org)\n",
    "t = time.time()-t1\n",
    "print(\"COMPLETED IN:\", t)\n",
    "unique_org = list(unique_org) #need to convert back to a list\n",
    "\n",
    "print('finding matches...')\n",
    "matches = []\n",
    "for i,j in enumerate(indices):\n",
    "    temp = [df_c['Contact ID'].values[i],round(1-distances[i][0],3), clean_org_names.values[j][0][0], clean_org_names.values[j][0][3],unique_org[i]]\n",
    "    matches.append(temp)\n",
    "print('Building data frame...')  \n",
    "matches = pd.DataFrame(matches, columns=['Contact ID','accuracy','Record Id','Account Match','Contacts'])\n",
    "print('Done')"
   ]
  },
  {
   "cell_type": "code",
   "execution_count": 93,
   "id": "648e1fa1-eaec-4d30-8222-6095741cb7de",
   "metadata": {},
   "outputs": [
    {
     "name": "stdout",
     "output_type": "stream",
     "text": [
      "'wrong' count: 245\n",
      "accuracy: 67.03%\n"
     ]
    }
   ],
   "source": [
    "print(\"\\'wrong\\' count: \" + str(len(matches.query('accuracy < .18').sort_values(\"accuracy\", ascending=False))))\n",
    "\n",
    "print(\"accuracy: \"+ str(round((1-len(matches.query('accuracy < .18').sort_values(\"accuracy\", ascending=False))/len(matches))*100, 2))+\"%\")"
   ]
  },
  {
   "cell_type": "code",
   "execution_count": 94,
   "id": "8f3a9d6d-fb84-49f9-b0ce-da30566cb77b",
   "metadata": {},
   "outputs": [],
   "source": [
    "a = np.array(matches['Record Id'].values.tolist())\n",
    "matches['Record Id'] = np.where(matches.accuracy < .3, np.nan, a)\n",
    "matches['Record Id'] = matches['Record Id'].replace(\"nan\", np.nan)\n",
    "\n",
    "b = np.array(matches['Account Match'].values.tolist())\n",
    "matches['Account Match'] = np.where(matches.accuracy < .3, np.nan, b)\n",
    "matches['Account Match'] = matches['Account Match'].replace(\"nan\", np.nan)"
   ]
  },
  {
   "cell_type": "code",
   "execution_count": 95,
   "id": "2633f77e-011d-42c7-acd0-c7cf3056a19b",
   "metadata": {},
   "outputs": [
    {
     "data": {
      "text/html": [
       "<div>\n",
       "<style scoped>\n",
       "    .dataframe tbody tr th:only-of-type {\n",
       "        vertical-align: middle;\n",
       "    }\n",
       "\n",
       "    .dataframe tbody tr th {\n",
       "        vertical-align: top;\n",
       "    }\n",
       "\n",
       "    .dataframe thead th {\n",
       "        text-align: right;\n",
       "    }\n",
       "</style>\n",
       "<table border=\"1\" class=\"dataframe\">\n",
       "  <thead>\n",
       "    <tr style=\"text-align: right;\">\n",
       "      <th></th>\n",
       "      <th>Contact ID</th>\n",
       "      <th>accuracy</th>\n",
       "      <th>Record Id</th>\n",
       "      <th>Account Match</th>\n",
       "      <th>Contacts</th>\n",
       "    </tr>\n",
       "  </thead>\n",
       "  <tbody>\n",
       "    <tr>\n",
       "      <th>725</th>\n",
       "      <td>zcrm_5090086000002614561</td>\n",
       "      <td>-0.277</td>\n",
       "      <td>NaN</td>\n",
       "      <td>NaN</td>\n",
       "      <td>JoyceVentures LLC Business Strategy for Social Good</td>\n",
       "    </tr>\n",
       "    <tr>\n",
       "      <th>655</th>\n",
       "      <td>zcrm_5090086000002614285</td>\n",
       "      <td>-0.270</td>\n",
       "      <td>NaN</td>\n",
       "      <td>NaN</td>\n",
       "      <td>Ashbeck Behavior Consulting LLC</td>\n",
       "    </tr>\n",
       "    <tr>\n",
       "      <th>483</th>\n",
       "      <td>zcrm_5090086000002614113</td>\n",
       "      <td>-0.266</td>\n",
       "      <td>NaN</td>\n",
       "      <td>NaN</td>\n",
       "      <td>Catholic Education Melbourne</td>\n",
       "    </tr>\n",
       "    <tr>\n",
       "      <th>681</th>\n",
       "      <td>zcrm_5090086000002614517</td>\n",
       "      <td>-0.260</td>\n",
       "      <td>NaN</td>\n",
       "      <td>NaN</td>\n",
       "      <td>Renaissance Academy of Multimedia Arts</td>\n",
       "    </tr>\n",
       "    <tr>\n",
       "      <th>353</th>\n",
       "      <td>zcrm_5090086000001583594</td>\n",
       "      <td>-0.258</td>\n",
       "      <td>NaN</td>\n",
       "      <td>NaN</td>\n",
       "      <td>Creatively Focused</td>\n",
       "    </tr>\n",
       "    <tr>\n",
       "      <th>110</th>\n",
       "      <td>zcrm_5090086000001290007</td>\n",
       "      <td>-0.247</td>\n",
       "      <td>NaN</td>\n",
       "      <td>NaN</td>\n",
       "      <td>Let Them Be Kids!</td>\n",
       "    </tr>\n",
       "    <tr>\n",
       "      <th>401</th>\n",
       "      <td>zcrm_5090086000001675074</td>\n",
       "      <td>-0.244</td>\n",
       "      <td>NaN</td>\n",
       "      <td>NaN</td>\n",
       "      <td>Asotin-Anatone School District</td>\n",
       "    </tr>\n",
       "    <tr>\n",
       "      <th>96</th>\n",
       "      <td>zcrm_5090086000001281001</td>\n",
       "      <td>-0.243</td>\n",
       "      <td>NaN</td>\n",
       "      <td>NaN</td>\n",
       "      <td>Linaschildcare</td>\n",
       "    </tr>\n",
       "    <tr>\n",
       "      <th>189</th>\n",
       "      <td>zcrm_5090086000001583224</td>\n",
       "      <td>-0.234</td>\n",
       "      <td>NaN</td>\n",
       "      <td>NaN</td>\n",
       "      <td>Aliquippa School District</td>\n",
       "    </tr>\n",
       "    <tr>\n",
       "      <th>87</th>\n",
       "      <td>zcrm_5090086000001273014</td>\n",
       "      <td>-0.233</td>\n",
       "      <td>NaN</td>\n",
       "      <td>NaN</td>\n",
       "      <td>Itâ€™s a good day preschool</td>\n",
       "    </tr>\n",
       "  </tbody>\n",
       "</table>\n",
       "</div>"
      ],
      "text/plain": [
       "                   Contact ID  accuracy Record Id Account Match  \\\n",
       "725  zcrm_5090086000002614561    -0.277       NaN           NaN   \n",
       "655  zcrm_5090086000002614285    -0.270       NaN           NaN   \n",
       "483  zcrm_5090086000002614113    -0.266       NaN           NaN   \n",
       "681  zcrm_5090086000002614517    -0.260       NaN           NaN   \n",
       "353  zcrm_5090086000001583594    -0.258       NaN           NaN   \n",
       "110  zcrm_5090086000001290007    -0.247       NaN           NaN   \n",
       "401  zcrm_5090086000001675074    -0.244       NaN           NaN   \n",
       "96   zcrm_5090086000001281001    -0.243       NaN           NaN   \n",
       "189  zcrm_5090086000001583224    -0.234       NaN           NaN   \n",
       "87   zcrm_5090086000001273014    -0.233       NaN           NaN   \n",
       "\n",
       "                                                Contacts  \n",
       "725  JoyceVentures LLC Business Strategy for Social Good  \n",
       "655                      Ashbeck Behavior Consulting LLC  \n",
       "483                         Catholic Education Melbourne  \n",
       "681               Renaissance Academy of Multimedia Arts  \n",
       "353                                   Creatively Focused  \n",
       "110                                    Let Them Be Kids!  \n",
       "401                       Asotin-Anatone School District  \n",
       "96                                        Linaschildcare  \n",
       "189                            Aliquippa School District  \n",
       "87                           Itâ€™s a good day preschool  "
      ]
     },
     "execution_count": 95,
     "metadata": {},
     "output_type": "execute_result"
    }
   ],
   "source": [
    "matches.sort_values('accuracy', ascending = True).head(10)"
   ]
  },
  {
   "cell_type": "markdown",
   "id": "96d97f7d-a059-452f-abf7-2541c998e795",
   "metadata": {},
   "source": [
    "### re-merging"
   ]
  },
  {
   "cell_type": "code",
   "execution_count": 96,
   "id": "ec876bc0-e453-4735-8509-bfb581fcf331",
   "metadata": {},
   "outputs": [],
   "source": [
    "outMatch = matches.drop(['Contacts'], axis = 1)"
   ]
  },
  {
   "cell_type": "code",
   "execution_count": 97,
   "id": "e6cc19e2-5419-4ddd-bc6a-295ad982b729",
   "metadata": {},
   "outputs": [],
   "source": [
    "cols = outMatch.columns.tolist()"
   ]
  },
  {
   "cell_type": "code",
   "execution_count": 98,
   "id": "0b85eb38-e325-4aaf-8efa-c9536450694b",
   "metadata": {},
   "outputs": [],
   "source": [
    "cols = ['Contact ID', 'Record Id', 'accuracy', 'Account Match']"
   ]
  },
  {
   "cell_type": "code",
   "execution_count": 99,
   "id": "58133a05-46ac-46ba-b1d2-bd341c8db3c3",
   "metadata": {},
   "outputs": [],
   "source": [
    "outMatch = outMatch[cols]"
   ]
  },
  {
   "cell_type": "code",
   "execution_count": 100,
   "id": "13b23a76-f7e5-49c0-b301-574f2044c0f7",
   "metadata": {},
   "outputs": [],
   "source": [
    "df_c = pd.read_excel(r\"C:\\Users\\jacob\\Documents\\SVS\\Contacts to Accounts\\Data\\EduFresh contacts 6.28.22.xlsx\")"
   ]
  },
  {
   "cell_type": "code",
   "execution_count": 101,
   "id": "953ed798-51cc-415d-b8ed-37275cf3688e",
   "metadata": {},
   "outputs": [],
   "source": [
    "df = pd.merge(left=df_c, right=outMatch, on='Contact ID', how='outer',suffixes=[\"\", \"_Accounts\"])"
   ]
  },
  {
   "cell_type": "code",
   "execution_count": 102,
   "id": "c5c27a51-9309-40eb-9c5b-491289b0d80e",
   "metadata": {},
   "outputs": [],
   "source": [
    "df.to_csv(\"Final Contact - Account Integration.csv\")"
   ]
  }
 ],
 "metadata": {
  "kernelspec": {
   "display_name": "Python 3 (ipykernel)",
   "language": "python",
   "name": "python3"
  },
  "language_info": {
   "codemirror_mode": {
    "name": "ipython",
    "version": 3
   },
   "file_extension": ".py",
   "mimetype": "text/x-python",
   "name": "python",
   "nbconvert_exporter": "python",
   "pygments_lexer": "ipython3",
   "version": "3.10.2"
  }
 },
 "nbformat": 4,
 "nbformat_minor": 5
}
